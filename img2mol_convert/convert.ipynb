{
 "cells": [
  {
   "cell_type": "code",
   "execution_count": 1,
   "metadata": {},
   "outputs": [
    {
     "name": "stderr",
     "output_type": "stream",
     "text": [
      "/home/jh-li/mambaforge/envs/img2mol-env/lib/python3.6/site-packages/tqdm/auto.py:22: TqdmWarning: IProgress not found. Please update jupyter and ipywidgets. See https://ipywidgets.readthedocs.io/en/stable/user_install.html\n",
      "  from .autonotebook import tqdm as notebook_tqdm\n"
     ]
    },
    {
     "name": "stdout",
     "output_type": "stream",
     "text": [
      "Local CDDD installation has not been found.\n"
     ]
    }
   ],
   "source": [
    "import os\n",
    "import torch\n",
    "from img2mol.inference import *"
   ]
  },
  {
   "cell_type": "code",
   "execution_count": 2,
   "metadata": {},
   "outputs": [
    {
     "name": "stdout",
     "output_type": "stream",
     "text": [
      "Initializing Img2Mol Model with random weights.\n",
      "Loading checkpoint: model/model.ckpt\n",
      "Setting to `self.eval()`-mode.\n",
      "Sending model to `cpu` device.\n",
      "Succesfully created Img2Mol Inference class.\n"
     ]
    }
   ],
   "source": [
    "# load model\n",
    "device = \"cuda:0\" if torch.cuda.is_available() else \"cpu\"\n",
    "img2mol = Img2MolInference(\n",
    "    model_ckpt=os.path.join(\"model\", \"model.ckpt\"),\n",
    "    device=device,\n",
    ")"
   ]
  },
  {
   "cell_type": "code",
   "execution_count": 3,
   "metadata": {},
   "outputs": [],
   "source": [
    "# infer with original model\n",
    "dummy_input = torch.rand(1, 1, 224, 224)\n",
    "dummy_output = img2mol.model(dummy_input)"
   ]
  },
  {
   "cell_type": "code",
   "execution_count": 4,
   "metadata": {},
   "outputs": [
    {
     "name": "stderr",
     "output_type": "stream",
     "text": [
      "/home/jh-li/mambaforge/envs/img2mol-env/lib/python3.6/site-packages/torch/_jit_internal.py:505: LightningDeprecationWarning: The `LightningModule.loaded_optimizer_states_dict` property is deprecated in v1.4 and will be removed in v1.6.\n",
      "  item = getattr(mod, name)\n",
      "/home/jh-li/mambaforge/envs/img2mol-env/lib/python3.6/site-packages/torch/_jit_internal.py:505: LightningDeprecationWarning: The `LightningModule.model_size` property was deprecated in v1.5 and will be removed in v1.7. Please use the `pytorch_lightning.utilities.memory.get_model_size_mb`.\n",
      "  item = getattr(mod, name)\n"
     ]
    }
   ],
   "source": [
    "# create workdir\n",
    "workdir = \"img2mol_pnnx\"\n",
    "os.makedirs(workdir, exist_ok=True)\n",
    "\n",
    "# export model with torch.jit.trace\n",
    "img2mol_trace = torch.jit.trace(img2mol.model, dummy_input)\n",
    "torch.jit.save(img2mol_trace, os.path.join(workdir, \"img2mol.pt\"))"
   ]
  },
  {
   "cell_type": "code",
   "execution_count": 5,
   "metadata": {},
   "outputs": [
    {
     "name": "stdout",
     "output_type": "stream",
     "text": [
      "pnnxparam = img2mol.pnnx.param\n",
      "pnnxbin = img2mol.pnnx.bin\n",
      "pnnxpy = img2mol_pnnx.py\n",
      "pnnxonnx = img2mol.pnnx.onnx\n",
      "ncnnparam = img2mol.ncnn.param\n",
      "ncnnbin = img2mol.ncnn.bin\n",
      "ncnnpy = img2mol_ncnn.py\n",
      "fp16 = 1\n",
      "optlevel = 2\n",
      "device = cpu\n",
      "inputshape = [1,1,224,224]f32\n",
      "inputshape2 = \n",
      "customop = \n",
      "moduleop = \n",
      "############# pass_level0\n",
      "\n",
      "----------------\n",
      "\n",
      "[W NNPACK.cpp:64] Could not initialize NNPACK! Reason: Unsupported hardware.\n",
      "############# pass_level1\n",
      "############# pass_level2\n",
      "############# pass_level3\n",
      "############# pass_level4\n",
      "############# pass_level5\n",
      "############# pass_ncnn\n"
     ]
    }
   ],
   "source": [
    "# use pnnx to convert model\n",
    "! cd img2mol_pnnx && /opt/pnnx-20231010-ubuntu/pnnx img2mol.pt \"inputshape=[1,1,224,224]\""
   ]
  },
  {
   "cell_type": "code",
   "execution_count": 6,
   "metadata": {},
   "outputs": [],
   "source": [
    "os.chdir(workdir)\n",
    "\n",
    "import img2mol_pnnx\n",
    "\n",
    "# load pnnx model\n",
    "img2mol_pnnx_model = img2mol_pnnx.Model()\n",
    "img2mol_pnnx_model.eval()\n",
    "\n",
    "os.chdir(\"..\")"
   ]
  },
  {
   "cell_type": "code",
   "execution_count": 7,
   "metadata": {},
   "outputs": [
    {
     "data": {
      "text/plain": [
       "tensor([1.], grad_fn=<DivBackward0>)"
      ]
     },
     "execution_count": 7,
     "metadata": {},
     "output_type": "execute_result"
    }
   ],
   "source": [
    "# compare results\n",
    "dummy_output_pnnx = img2mol_pnnx_model(dummy_input)\n",
    "torch.cosine_similarity(dummy_output, dummy_output_pnnx)"
   ]
  },
  {
   "cell_type": "code",
   "execution_count": null,
   "metadata": {},
   "outputs": [],
   "source": []
  }
 ],
 "metadata": {
  "kernelspec": {
   "display_name": "img2mol-env",
   "language": "python",
   "name": "python3"
  },
  "language_info": {
   "codemirror_mode": {
    "name": "ipython",
    "version": 3
   },
   "file_extension": ".py",
   "mimetype": "text/x-python",
   "name": "python",
   "nbconvert_exporter": "python",
   "pygments_lexer": "ipython3",
   "version": "3.6.13"
  }
 },
 "nbformat": 4,
 "nbformat_minor": 2
}
