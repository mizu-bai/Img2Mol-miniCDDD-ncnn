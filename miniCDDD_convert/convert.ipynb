{
 "cells": [
  {
   "cell_type": "code",
   "execution_count": 1,
   "metadata": {},
   "outputs": [],
   "source": [
    "import numpy as np\n",
    "import tensorflow as tf\n",
    "import ncnn\n",
    "from sklearn.metrics.pairwise import cosine_similarity"
   ]
  },
  {
   "cell_type": "code",
   "execution_count": 2,
   "metadata": {},
   "outputs": [
    {
     "name": "stdout",
     "output_type": "stream",
     "text": [
      "WARNING:tensorflow:No training configuration found in the save file, so the model was *not* compiled. Compile it manually.\n",
      "Model: \"classifier\"\n",
      "_________________________________________________________________\n",
      " Layer (type)                Output Shape              Param #   \n",
      "=================================================================\n",
      " input_2 (InputLayer)        [(None, 512)]             0         \n",
      "                                                                 \n",
      " dense_2 (Dense)             (None, 512)               262656    \n",
      "                                                                 \n",
      " dense_3 (Dense)             (None, 128)               65664     \n",
      "                                                                 \n",
      " classification_output (Dens  (None, 7)                903       \n",
      " e)                                                              \n",
      "                                                                 \n",
      "=================================================================\n",
      "Total params: 329,223\n",
      "Trainable params: 329,223\n",
      "Non-trainable params: 0\n",
      "_________________________________________________________________\n"
     ]
    }
   ],
   "source": [
    "# load model\n",
    "classifier = tf.keras.models.load_model(\"classifier.h5\")\n",
    "classifier.summary()"
   ]
  },
  {
   "cell_type": "code",
   "execution_count": 3,
   "metadata": {},
   "outputs": [
    {
     "name": "stdout",
     "output_type": "stream",
     "text": [
      "Reading and parsing keras h5df file...\n",
      "Start graph optimizing pass...\n",
      "\tRemoving unused nodes...\n",
      "\tRemoving squeeze reshape after pooling...\n",
      "\tRefreshing graph...\n",
      "Converting keras graph to ncnn graph...\n",
      "Start emitting to ncnn files.\n",
      "\tEmitting param...\n",
      "\tEmitting binary...\n",
      "Done!\n"
     ]
    }
   ],
   "source": [
    "# convert model\n",
    "! python3 -m keras2ncnn -i classifier.h5 -o ./"
   ]
  },
  {
   "cell_type": "code",
   "execution_count": 4,
   "metadata": {},
   "outputs": [
    {
     "name": "stdout",
     "output_type": "stream",
     "text": [
      "1/1 [==============================] - 0s 143ms/step\n"
     ]
    },
    {
     "data": {
      "text/plain": [
       "array([[ 0.05615039,  0.01951502, -0.01127421, -0.06659301, -0.5894873 ,\n",
       "         0.5829465 , -0.22231063]], dtype=float32)"
      ]
     },
     "execution_count": 4,
     "metadata": {},
     "output_type": "execute_result"
    }
   ],
   "source": [
    "# infer with original model\n",
    "dummy_input = np.random.random(size=(1, 512)).astype(np.float32)\n",
    "dummy_output = classifier.predict(dummy_input)\n",
    "dummy_output"
   ]
  },
  {
   "cell_type": "code",
   "execution_count": 5,
   "metadata": {},
   "outputs": [
    {
     "data": {
      "text/plain": [
       "<ncnn.Mat w=7 h=1 d=1 c=1 dims=2 cstep=7 elemsize=4 elempack=1\n",
       "\trefcount=1 data=0x0x6718a40 allocator=0x0>\n",
       "[[0.0562771, 0.0194222, -0.0111619, ..., -0.589062, 0.582729, -0.222009]]"
      ]
     },
     "execution_count": 5,
     "metadata": {},
     "output_type": "execute_result"
    }
   ],
   "source": [
    "# infer with ncnn\n",
    "with ncnn.Net() as net:\n",
    "    net.load_param(\"classifier.param\")\n",
    "    net.load_model(\"classifier.bin\")\n",
    "\n",
    "    with net.create_extractor() as ex:\n",
    "        ex.input(\"input_2_blob\", ncnn.Mat(dummy_input).clone())\n",
    "\n",
    "        _, ncnn_output = ex.extract(\"classification_output_blob\")\n",
    "\n",
    "ncnn_output"
   ]
  },
  {
   "cell_type": "code",
   "execution_count": 6,
   "metadata": {},
   "outputs": [
    {
     "data": {
      "text/plain": [
       "array([[0.99999994]], dtype=float32)"
      ]
     },
     "execution_count": 6,
     "metadata": {},
     "output_type": "execute_result"
    }
   ],
   "source": [
    "# compare results\n",
    "cosine_similarity(dummy_output, np.array(ncnn_output))"
   ]
  },
  {
   "cell_type": "code",
   "execution_count": null,
   "metadata": {},
   "outputs": [],
   "source": []
  }
 ],
 "metadata": {
  "kernelspec": {
   "display_name": "miniCDDD-env",
   "language": "python",
   "name": "python3"
  },
  "language_info": {
   "codemirror_mode": {
    "name": "ipython",
    "version": 3
   },
   "file_extension": ".py",
   "mimetype": "text/x-python",
   "name": "python",
   "nbconvert_exporter": "python",
   "pygments_lexer": "ipython3",
   "version": "3.9.18"
  }
 },
 "nbformat": 4,
 "nbformat_minor": 2
}
